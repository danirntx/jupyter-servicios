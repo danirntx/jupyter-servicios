{
 "cells": [
  {
   "cell_type": "code",
   "execution_count": 1,
   "metadata": {
    "scrolled": false
   },
   "outputs": [],
   "source": [
    "import pandas as pd\n",
    "import os"
   ]
  },
  {
   "cell_type": "code",
   "execution_count": 9,
   "metadata": {},
   "outputs": [
    {
     "data": {
      "text/html": [
       "<h1>Datos Ventas de Sistemas Operativos</h1><style>h1 {color: red;} </style>"
      ],
      "text/plain": [
       "<IPython.core.display.HTML object>"
      ]
     },
     "metadata": {},
     "output_type": "display_data"
    },
    {
     "data": {
      "text/html": [
       "<div>\n",
       "<style scoped>\n",
       "    .dataframe tbody tr th:only-of-type {\n",
       "        vertical-align: middle;\n",
       "    }\n",
       "\n",
       "    .dataframe tbody tr th {\n",
       "        vertical-align: top;\n",
       "    }\n",
       "\n",
       "    .dataframe thead th {\n",
       "        text-align: right;\n",
       "    }\n",
       "</style>\n",
       "<table border=\"1\" class=\"dataframe\">\n",
       "  <thead>\n",
       "    <tr style=\"text-align: right;\">\n",
       "      <th></th>\n",
       "      <th>Sistemas</th>\n",
       "      <th>Tipo</th>\n",
       "      <th>Unidades</th>\n",
       "      <th>Porcentaje</th>\n",
       "    </tr>\n",
       "  </thead>\n",
       "  <tbody>\n",
       "    <tr>\n",
       "      <th>0</th>\n",
       "      <td>Ubuntu</td>\n",
       "      <td>Libre</td>\n",
       "      <td>150000</td>\n",
       "      <td>15%</td>\n",
       "    </tr>\n",
       "    <tr>\n",
       "      <th>1</th>\n",
       "      <td>Linux</td>\n",
       "      <td>Libre</td>\n",
       "      <td>250000</td>\n",
       "      <td>25%</td>\n",
       "    </tr>\n",
       "    <tr>\n",
       "      <th>2</th>\n",
       "      <td>Mac</td>\n",
       "      <td>Propietario</td>\n",
       "      <td>100000</td>\n",
       "      <td>10%</td>\n",
       "    </tr>\n",
       "    <tr>\n",
       "      <th>3</th>\n",
       "      <td>Windows</td>\n",
       "      <td>Propietario</td>\n",
       "      <td>750000</td>\n",
       "      <td>50%</td>\n",
       "    </tr>\n",
       "  </tbody>\n",
       "</table>\n",
       "</div>"
      ],
      "text/plain": [
       "  Sistemas         Tipo  Unidades Porcentaje\n",
       "0   Ubuntu        Libre    150000        15%\n",
       "1    Linux        Libre    250000        25%\n",
       "2      Mac  Propietario    100000        10%\n",
       "3  Windows  Propietario    750000        50%"
      ]
     },
     "execution_count": 9,
     "metadata": {},
     "output_type": "execute_result"
    }
   ],
   "source": [
    "from IPython.core.display import display, HTML\n",
    "display(HTML('<h1>Datos Ventas de Sistemas Operativos</h1>'\n",
    "            '<style>h1 {color: red;} </style>'))\n",
    "new_dataframe = pd.DataFrame (\n",
    "     {\n",
    "        \"Sistemas\":['Ubuntu','Linux','Mac','Windows'],\n",
    "        \"Tipo\":['Libre','Libre','Propietario','Propietario'],\n",
    "        \"Unidades\":[150000,250000,100000,750000],\n",
    "        \"Porcentaje\":['15%','25%','10%','50%']\n",
    "        \n",
    "      }\n",
    ")\n",
    "\n",
    "new_dataframe"
   ]
  },
  {
   "cell_type": "code",
   "execution_count": 4,
   "metadata": {},
   "outputs": [
    {
     "data": {
      "text/html": [
       "<h1>Tabla Ventas de Sistemas Operativos</h1>"
      ],
      "text/plain": [
       "<IPython.core.display.HTML object>"
      ]
     },
     "metadata": {},
     "output_type": "display_data"
    },
    {
     "data": {
      "image/png": "[encoded data removed]",
      "text/plain": [
       "<Figure size 432x288 with 1 Axes>"
      ]
     },
     "metadata": {
      "needs_background": "light"
     },
     "output_type": "display_data"
    }
   ],
   "source": [
    "display(HTML('<h1>Tabla Ventas de Sistemas Operativos</h1>'));\n",
    "new_dataframe.plot(x='Sistemas', y='Unidades', kind='bar');"
   ]
  },
  {
   "cell_type": "code",
   "execution_count": null,
   "metadata": {},
   "outputs": [],
   "source": []
  }
 ],
 "metadata": {
  "kernelspec": {
   "display_name": "Python 3",
   "language": "python",
   "name": "python3"
  },
  "language_info": {
   "codemirror_mode": {
    "name": "ipython",
    "version": 3
   },
   "file_extension": ".py",
   "mimetype": "text/x-python",
   "name": "python",
   "nbconvert_exporter": "python",
   "pygments_lexer": "ipython3",
   "version": "3.7.0"
  }
 },
 "nbformat": 4,
 "nbformat_minor": 2
}
